{
 "cells": [
  {
   "cell_type": "markdown",
   "metadata": {},
   "source": [
    "# Crack Detection using Drone Images\n",
    "\n",
    "This notebook processes images to detect cracks using various image processing techniques."
   ]
  },
  {
   "cell_type": "code",
   "execution_count": 1,
   "metadata": {},
   "outputs": [],
   "source": [
    "!pip install opencv-python-headless pillow matplotlib scikit-image scikit-learn"
   ]
  },
  {
   "cell_type": "code",
   "execution_count": 2,
   "metadata": {},
   "outputs": [],
   "source": [
    "import cv2\n",
    "from skimage.feature import graycomatrix, graycoprops, local_binary_pattern\n",
    "from skimage.morphology import opening, closing, disk\n",
    "from sklearn.model_selection import train_test_split\n",
    "from sklearn.svm import SVC\n",
    "from sklearn.neural_network import MLPClassifier\n",
    "from sklearn.metrics import classification_report, accuracy_score\n",
    "import numpy as np\n",
    "from matplotlib import pyplot as plt"
   ]
  },
  {
   "cell_type": "code",
   "execution_count": 3,
   "metadata": {},
   "outputs": [],
   "source": [
    "# Load image\n",
    "image_path = 'images/your_image.jpg'  # Adjust the image path\n",
    "image = cv2.imread(image_path, cv2.IMREAD_GRAYSCALE)\n",
    "if image is None:\n",
    "    print(\"Error: Image not found or path is incorrect.\")\n",
    "else:\n",
    "    print(\"Image loaded successfully.\")"
   ]
  },
  {
   "cell_type": "code",
   "execution_count": 4,
   "metadata": {},
   "outputs": [],
   "source": [
    "# Noise reduction\n",
    "blurred_image = cv2.GaussianBlur(image, (5, 5), 0)"
   ]
  },
  {
   "cell_type": "code",
   "execution_count": 5,
   "metadata": {},
   "outputs": [],
   "source": [
    "# Adaptive histogram equalization\n",
    "clahe = cv2.createCLAHE(clipLimit=2.0, tileGridSize=(8, 8))\n",
    "enhanced_image = clahe.apply(blurred_image)"
   ]
  },
  {
   "cell_type": "code",
   "execution_count": 6,
   "metadata": {},
   "outputs": [],
   "source": [
    "# Morphological processing\n",
    "selem = disk(6)\n",
    "opened_image = opening(enhanced_image, selem)\n",
    "closed_image = closing(opened_image, selem)"
   ]
  },
  {
   "cell_type": "code",
   "execution_count": 7,
   "metadata": {},
   "outputs": [],
   "source": [
    "# GLCM\n",
    "glcm = graycomatrix(closed_image, distances=[1], angles=[0], levels=256, symmetric=True, normed=True)\n",
    "contrast = graycoprops(glcm, 'contrast')[0, 0]\n",
    "dissimilarity = graycoprops(glcm, 'dissimilarity')[0, 0]\n",
    "homogeneity = graycoprops(glcm, 'homogeneity')[0, 0]\n",
    "energy = graycoprops(glcm, 'energy')[0, 0]\n",
    "correlation = graycoprops(glcm, 'correlation')[0, 0]\n",
    "ASM = graycoprops(glcm, 'ASM')[0, 0]\n",
    "\n",
    "print(f'GLCM - Contrast: {contrast}, Dissimilarity: {dissimilarity}, Homogeneity: {homogeneity}, Energy: {energy}, Correlation: {correlation}, ASM: {ASM}')"
   ]
  },
  {
   "cell_type": "code",
   "execution_count": 8,
   "metadata": {},
   "outputs": [],
   "source": [
    "# LBP\n",
    "radius = 1\n",
    "n_points = 8 * radius\n",
    "lbp = local_binary_pattern(closed_image, n_points, radius, method='uniform')\n",
    "n_bins = int(lbp.max() + 1)\n",
    "lbp_hist, _ = np.histogram(lbp, bins=n_bins, range=(0, n_bins), density=True)"
   ]
  },
  {
   "cell_type": "code",
   "execution_count": 9,
   "metadata": {},
   "outputs": [],
   "source": [
    "# Edge detection\n",
    "edges = cv2.Canny(closed_image, 100, 200)"
   ]
  },
  {
   "cell_type": "code",
   "execution_count": 10,
   "metadata": {},
   "outputs": [],
   "source": [
    "# Feature vector\n",
    "features = np.hstack([contrast, dissimilarity, homogeneity, energy, correlation, ASM, lbp_hist])"
   ]
  },
  {
   "cell_type": "code",
   "execution_count": 11,
   "metadata": {},
   "outputs": [],
   "source": [
    "# Generate synthetic data for demonstration\n",
    "num_samples = 100\n",
    "X = np.array([features for _ in range(num_samples)])\n",
    "y = np.random.randint(2, size=num_samples)  # Synthetic labels (0 for no crack, 1 for crack)\n",
    "\n",
    "# Split the data\n",
    "X_train, X_test, y_train, y_test = train_test_split(X, y, test_size=0.2, random_state=42)"
   ]
  },
  {
   "cell_type": "code",
   "execution_count": 12,
   "metadata": {},
   "outputs": [],
   "source": [
    "# Train SVM classifier\n",
    "svm = SVC()\n",
    "svm.fit(X_train, y_train)\n",
    "\n",
    "# Predict and evaluate SVM\n",
    "y_pred_svm = svm.predict(X_test)\n",
    "print(\"SVM Classification Report:\")\n",
    "print(classification_report(y_test, y_pred_svm, zero_division=0))\n",
    "print(f'Accuracy: {accuracy_score(y_test, y_pred_svm)}')\n",
    "\n",
    "# Check if crack is detected\n",
    "crack_detected_svm = \"Crack detected\" if 1 in y_pred_svm else \"No crack detected\"\n",
    "print(f'SVM Prediction: {crack_detected_svm}')"
   ]
  },
  {
   "cell_type": "code",
   "execution_count": 13,
   "metadata": {},
   "outputs": [],
   "source": [
    "# Train MLP classifier\n",
    "mlp = MLPClassifier(max_iter=1000)\n",
    "mlp.fit(X_train, y_train)\n",
    "\n",
    "# Predict and evaluate MLP\n",
    "y_pred_mlp = mlp.predict(X_test)\n",
    "print(\"MLP Classification Report:\")\n",
    "print(classification_report(y_test, y_pred_mlp, zero_division=0))\n",
    "print(f'Accuracy: {accuracy_score(y_test, y_pred_mlp)}')\n",
    "\n",
    "# Check if crack is detected\n",
    "crack_detected_mlp = \"Crack detected\" if 1 in y_pred_mlp else \"No crack detected\"\n",
    "print(f'MLP Prediction: {crack_detected_mlp}')"
   ]
  },
  {
   "cell_type": "code",
   "execution_count": 14,
   "metadata": {},
   "outputs": [],
   "source": [
    "# Display images\n",
    "plt.figure(figsize=(12, 8))\n",
    "plt.subplot(2, 3, 1), plt.imshow(image, cmap='gray'), plt.title('Original Image')\n",
    "plt.subplot(2, 3, 2), plt.imshow(blurred_image, cmap='gray'), plt.title('Blurred Image')\n",
    "plt.subplot(2, 3, 3), plt.imshow(enhanced_image, cmap='gray'), plt.title('Enhanced Image')\n",
    "plt.subplot(2, 3, 4), plt.imshow(opened_image, cmap='gray'), plt.title('Opened Image')\n",
    "plt.subplot(2, 3, 5), plt.imshow(closed_image, cmap='gray'), plt.title('Closed Image')\n",
    "plt.subplot(2, 3, 6), plt.imshow(edges, cmap='gray'), plt.title('Edges')\n",
    "plt.show()"
   ]
  }
 ],
 "metadata": {
  "kernelspec": {
   "display_name": "Python 3",
   "language": "python",
   "name": "python3"
  },
  "language_info": {
   "codemirror_mode": {
    "name": "ipython",
    "version": 3
   },
   "file_extension": ".py",
   "mimetype": "text/x-python",
   "name": "python",
   "nbconvert_exporter": "python",
   "pygments_lexer": "ipython3",
   "version": "3.10.8"
  }
 },
 "nbformat": 4,
 "nbformat_minor": 2
}
